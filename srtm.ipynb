{
  "nbformat": 4,
  "nbformat_minor": 0,
  "metadata": {
    "colab": {
      "name": "srtm.ipynb",
      "provenance": [],
      "authorship_tag": "ABX9TyNY4sonrjn0/L+QrQbW+HFx",
      "include_colab_link": true
    },
    "kernelspec": {
      "name": "python3",
      "display_name": "Python 3"
    }
  },
  "cells": [
    {
      "cell_type": "markdown",
      "metadata": {
        "id": "view-in-github",
        "colab_type": "text"
      },
      "source": [
        "<a href=\"https://colab.research.google.com/github/arlestaboada/githubCanal/blob/main/srtm.ipynb\" target=\"_parent\"><img src=\"https://colab.research.google.com/assets/colab-badge.svg\" alt=\"Open In Colab\"/></a>"
      ]
    },
    {
      "cell_type": "code",
      "metadata": {
        "id": "nG4e2K1BeIx1",
        "colab": {
          "base_uri": "https://localhost:8080/",
          "height": 183
        },
        "outputId": "c48d19bb-b057-46a9-ae52-b4c8125c04e2"
      },
      "source": [
        "import ee\n",
        "ee.Authenticate()"
      ],
      "execution_count": null,
      "outputs": [
        {
          "output_type": "stream",
          "text": [
            "To authorize access needed by Earth Engine, open the following URL in a web browser and follow the instructions. If the web browser does not start automatically, please manually browse the URL below.\n",
            "\n",
            "    https://accounts.google.com/o/oauth2/auth?client_id=517222506229-vsmmajv00ul0bs7p89v5m89qs8eb9359.apps.googleusercontent.com&scope=https%3A%2F%2Fwww.googleapis.com%2Fauth%2Fearthengine+https%3A%2F%2Fwww.googleapis.com%2Fauth%2Fdevstorage.full_control&redirect_uri=urn%3Aietf%3Awg%3Aoauth%3A2.0%3Aoob&response_type=code&code_challenge=iJmk9PuDShklBra1Ax9TFg_tdIq1lpxcqgRL2UyQlEk&code_challenge_method=S256\n",
            "\n",
            "The authorization workflow will generate a code, which you should paste in the box below. \n",
            "Enter verification code: 4/3AE9OWdRnBbS9L1rnqNRMLHF-NRRelIMtBG4_rxH8Tx-yKY0EvMXF8k\n",
            "\n",
            "Successfully saved authorization token.\n"
          ],
          "name": "stdout"
        }
      ]
    },
    {
      "cell_type": "code",
      "metadata": {
        "id": "OHZ4Qdj7d_ae",
        "colab": {
          "base_uri": "https://localhost:8080/",
          "height": 54
        },
        "outputId": "3d518edf-225a-4aa8-ac0c-1fd6dedf2050"
      },
      "source": [
        "import ee\n",
        "import sys\n",
        "import ee.mapclient\n",
        "\n",
        "try:\n",
        "  ee.Initialize()\n",
        "  print('The Earth Engine package initialized successfully!')\n",
        "except ee.EEException as e:\n",
        "  print('The Earth Engine package failed to initialize!')\n",
        "except:\n",
        "    print(\"Unexpected error:\", sys.exc_info()[0])\n",
        "    raise\n",
        "\n",
        "#cargando imagen en memoria\n",
        "srtm = ee.Image('srtm90_v4')\n",
        "#parametros de visualizacion\n",
        "visParams= {'min':0, 'max':2000,'palette':['black','blue','purple','cyan',\n",
        "                                        'green','yellow','red']}\n",
        "#cargando imagen al mapa\n",
        "ee.mapclient.addToMap(srtm,visParams,'SRTM')\n",
        "\n"
      ],
      "execution_count": null,
      "outputs": [
        {
          "output_type": "stream",
          "text": [
            "The Earth Engine package initialized successfully!\n",
            "None\n"
          ],
          "name": "stdout"
        }
      ]
    }
  ]
}